{
 "cells": [
  {
   "cell_type": "code",
   "execution_count": 2,
   "metadata": {},
   "outputs": [],
   "source": [
    "from sklearn.cluster import KMeans\n",
    "import numpy as np\n",
    "from PIL import Image\n",
    "import glob\n",
    "from numpy import asarray"
   ]
  },
  {
   "cell_type": "code",
   "execution_count": 96,
   "metadata": {},
   "outputs": [
    {
     "data": {
      "text/plain": [
       "((410, 3), [100, 10, array([100, 118, 111, ...,  21,  20,  21], dtype=uint8)])"
      ]
     },
     "execution_count": 96,
     "metadata": {},
     "output_type": "execute_result"
    }
   ],
   "source": [
    "filelist = glob.glob('ORL/*.jpg')\n",
    "list = []\n",
    "for fname in filelist:\n",
    "    pic_num = int(fname.split(\"\\\\\")[-1].split(\".\")[0].split(\"_\")[0])\n",
    "    cluster_num = int(fname.split(\"\\\\\")[1].split(\".\")[0].split(\"_\")[1])\n",
    "    img_arr = asarray(Image.open(fname).convert('L')).flatten()\n",
    "    list.append([pic_num, cluster_num, img_arr])\n",
    "    #print(img_arr)\n",
    "\n",
    "#1, 2, 3(arr)\n",
    "data = np.array(list)\n",
    "data.shape, list[0]"
   ]
  },
  {
   "cell_type": "code",
   "execution_count": 97,
   "metadata": {},
   "outputs": [
    {
     "data": {
      "text/plain": [
       "(410, 5600)"
      ]
     },
     "execution_count": 97,
     "metadata": {},
     "output_type": "execute_result"
    }
   ],
   "source": [
    "out_arr1 = np.stack(data[:, 2])\n",
    "out_arr1.shape"
   ]
  },
  {
   "cell_type": "code",
   "execution_count": 98,
   "metadata": {},
   "outputs": [],
   "source": [
    "kmeans = KMeans(n_clusters= 41, random_state = 11).fit(np.stack(data[:, 2]))"
   ]
  },
  {
   "cell_type": "code",
   "execution_count": 99,
   "metadata": {},
   "outputs": [
    {
     "data": {
      "text/plain": [
       "((410, 1), (410, 3))"
      ]
     },
     "execution_count": 99,
     "metadata": {},
     "output_type": "execute_result"
    }
   ],
   "source": [
    "output_labels = np.array(kmeans.labels_).reshape((len(kmeans.labels_), 1))\n",
    "output_labels.shape, data.shape"
   ]
  },
  {
   "cell_type": "code",
   "execution_count": 100,
   "metadata": {},
   "outputs": [
    {
     "data": {
      "text/plain": [
       "((410, 4), (4,), (5600,), int)"
      ]
     },
     "execution_count": 100,
     "metadata": {},
     "output_type": "execute_result"
    }
   ],
   "source": [
    "data_with_label = np.append(data, output_labels, axis=1)\n",
    "data_with_label.shape, data_with_label[0].shape, data_with_label[0][2].shape, type(data_with_label[0][3])\n",
    "# data_with_label = (int) pic_num, (int) cluster_num, (np arr) pic, (int) predicted_cluster of pic"
   ]
  },
  {
   "cell_type": "code",
   "execution_count": 114,
   "metadata": {},
   "outputs": [],
   "source": [
    "def ri(data_with_label, k = 41):\n",
    "    pred_cluster_dict = {} # key is label predicted by kmeans, values are pic_nums of pics that are labeled with the respected key\n",
    "    for i, pred_cluster in enumerate(data_with_label[:, 3]): \n",
    "        if pred_cluster in pred_cluster_dict.keys():\n",
    "          pred_cluster_dict[pred_cluster].append(data_with_label[i][0])\n",
    "        else:\n",
    "          pred_cluster_dict[pred_cluster] = [data_with_label[i][0]]\n",
    "    \n",
    "    data_label_dict = {} # key is pic_num, values are true_label(original label) of that key\n",
    "    for i, data_id in enumerate(data_with_label[:, 0]): \n",
    "        data_label_dict[data_id] = data_with_label[i][1]\n",
    "    \n",
    "    data_pop_dict = {} # key is original cluster numnber, value is population\n",
    "    for i, label in enumerate(data_with_label[:, 1]):\n",
    "        if label in data_pop_dict.keys():\n",
    "          data_pop_dict[label]+=1\n",
    "        else:\n",
    "          data_pop_dict[label] = 1\n",
    "    \n",
    "    TP_FP = 0\n",
    "    for key in pred_cluster_dict:\n",
    "        Ni = len(pred_cluster_dict[key])\n",
    "        TP_FP += int((Ni * (Ni-1))/2)\n",
    "        \n",
    "    TP = 0\n",
    "    for key in pred_cluster_dict: \n",
    "        item_count = {}\n",
    "        # print(label_dict[key])\n",
    "        for item in pred_cluster_dict[key]:\n",
    "            if data_label_dict[item] in item_count.keys():\n",
    "                item_count[data_label_dict[item]]+= 1\n",
    "            else:\n",
    "                item_count[data_label_dict[item]] = 1\n",
    "        # print(item_count)\n",
    "\n",
    "        for i in item_count.keys():\n",
    "            same_items = item_count[i]\n",
    "            TP += int(same_items * (same_items-1)/2)\n",
    "            # print(TP)\n",
    "    \n",
    "    FP = TP_FP - TP\n",
    "\n",
    "    FN = 0\n",
    "    for data_type in data_pop_dict:\n",
    "        Ni = data_pop_dict[data_type]\n",
    "        TPi = 0\n",
    "        for key in pred_cluster_dict:\n",
    "            pop_in_curr_cluster = 0\n",
    "            for data in pred_cluster_dict[key]:\n",
    "                if data_label_dict[data] == data_type:\n",
    "                    pop_in_curr_cluster += 1\n",
    "            TPi += int(pop_in_curr_cluster * (pop_in_curr_cluster-1)/2)\n",
    "        #print(TPi)\n",
    "        FN += int((Ni * (Ni-1)/2) - TPi)\n",
    "    \n",
    "    N = 0\n",
    "    for data_type in data_pop_dict:\n",
    "        N += data_pop_dict[data_type]\n",
    "    TN = int(N*(N-1)/2 - (FN + TP + FP))\n",
    "\n",
    "    RI = (TP + TN) / (TP + TN + FP + FN)\n",
    "    return RI"
   ]
  },
  {
   "cell_type": "code",
   "execution_count": 115,
   "metadata": {},
   "outputs": [
    {
     "name": "stdout",
     "output_type": "stream",
     "text": [
      "0.9830520603494544\n"
     ]
    }
   ],
   "source": [
    "print(ri(data_with_label))"
   ]
  },
  {
   "cell_type": "raw",
   "metadata": {},
   "source": [
    "pred_cluster_dict = {}\n",
    "data_label_dict = {}\n",
    "\n",
    "pred_cluster_dict[0] = ([1, 2, 3, 4, 5, 6])\n",
    "pred_cluster_dict[1] = ([7, 8, 9, 10, 11, 12])\n",
    "pred_cluster_dict[2] = ([13, 14, 15, 16, 17])\n",
    "\n",
    "data_label_dict[1] = 10\n",
    "data_label_dict[2] = 10\n",
    "data_label_dict[3] = 10\n",
    "data_label_dict[4] = 10\n",
    "data_label_dict[5] = 10\n",
    "data_label_dict[6] = 20\n",
    "\n",
    "data_label_dict[7] = 10\n",
    "data_label_dict[8] = 20\n",
    "data_label_dict[9] = 20\n",
    "data_label_dict[10] = 20\n",
    "data_label_dict[11] = 20\n",
    "data_label_dict[12] = 30\n",
    "\n",
    "data_label_dict[13] = 30\n",
    "data_label_dict[14] = 30\n",
    "data_label_dict[15] = 30\n",
    "data_label_dict[16] = 10\n",
    "data_label_dict[17] = 10\n",
    "\n",
    "data_pop_dict = {}\n",
    "data_pop_dict[10] = 8\n",
    "data_pop_dict[20] = 5\n",
    "data_pop_dict[30] = 4\n",
    "\n",
    "pred_cluster_dict, data_label_dict"
   ]
  }
 ],
 "metadata": {
  "kernelspec": {
   "display_name": "Python 3",
   "language": "python",
   "name": "python3"
  },
  "language_info": {
   "codemirror_mode": {
    "name": "ipython",
    "version": 3
   },
   "file_extension": ".py",
   "mimetype": "text/x-python",
   "name": "python",
   "nbconvert_exporter": "python",
   "pygments_lexer": "ipython3",
   "version": "3.7.6"
  }
 },
 "nbformat": 4,
 "nbformat_minor": 4
}
