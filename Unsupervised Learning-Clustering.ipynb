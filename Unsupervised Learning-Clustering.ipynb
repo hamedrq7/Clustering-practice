{
 "cells": [
  {
   "cell_type": "code",
   "execution_count": 4,
   "metadata": {},
   "outputs": [],
   "source": [
    "from sklearn.cluster import DBSCAN\n",
    "from sklearn import metrics\n",
    "from sklearn.datasets import make_blobs\n",
    "from sklearn.preprocessing import StandardScaler\n",
    "from sklearn.cluster import KMeans\n",
    "import numpy as np\n",
    "from PIL import Image\n",
    "import glob\n",
    "from numpy import asarray\n",
    "from sklearn.neighbors import NearestNeighbors\n",
    "from matplotlib import pyplot as plt\n",
    "from sklearn.cluster import AgglomerativeClustering\n",
    "from sklearn.cluster import DBSCAN"
   ]
  },
  {
   "cell_type": "markdown",
   "metadata": {},
   "source": [
    "# Rand Index"
   ]
  },
  {
   "cell_type": "code",
   "execution_count": 5,
   "metadata": {},
   "outputs": [],
   "source": [
    "def ri(data_with_label, k = 41):\n",
    "    pred_cluster_dict = {} # key is label predicted by kmeans, values are pic_nums of pics that are labeled with the respected key\n",
    "    for i, pred_cluster in enumerate(data_with_label[:, 3]): \n",
    "        if pred_cluster in pred_cluster_dict.keys():\n",
    "          pred_cluster_dict[pred_cluster].append(data_with_label[i][0])\n",
    "        else:\n",
    "          pred_cluster_dict[pred_cluster] = [data_with_label[i][0]]\n",
    "    \n",
    "    data_label_dict = {} # key is pic_num, values are true_label(original label) of that key\n",
    "    for i, data_id in enumerate(data_with_label[:, 0]): \n",
    "        data_label_dict[data_id] = data_with_label[i][1]\n",
    "    \n",
    "    data_pop_dict = {} # key is original cluster numnber, value is population\n",
    "    for i, label in enumerate(data_with_label[:, 1]):\n",
    "        if label in data_pop_dict.keys():\n",
    "          data_pop_dict[label]+=1\n",
    "        else:\n",
    "          data_pop_dict[label] = 1\n",
    "    \n",
    "    TP_FP = 0\n",
    "    for key in pred_cluster_dict:\n",
    "        Ni = len(pred_cluster_dict[key])\n",
    "        TP_FP += int((Ni * (Ni-1))/2)\n",
    "        \n",
    "    TP = 0\n",
    "    for key in pred_cluster_dict: \n",
    "        item_count = {}\n",
    "        # print(label_dict[key])\n",
    "        for item in pred_cluster_dict[key]:\n",
    "            if data_label_dict[item] in item_count.keys():\n",
    "                item_count[data_label_dict[item]]+= 1\n",
    "            else:\n",
    "                item_count[data_label_dict[item]] = 1\n",
    "        # print(item_count)\n",
    "\n",
    "        for i in item_count.keys():\n",
    "            same_items = item_count[i]\n",
    "            TP += int(same_items * (same_items-1)/2)\n",
    "            # print(TP)\n",
    "    \n",
    "    FP = TP_FP - TP\n",
    "\n",
    "    FN = 0\n",
    "    for data_type in data_pop_dict:\n",
    "        Ni = data_pop_dict[data_type]\n",
    "        TPi = 0\n",
    "        for key in pred_cluster_dict:\n",
    "            pop_in_curr_cluster = 0\n",
    "            for data in pred_cluster_dict[key]:\n",
    "                if data_label_dict[data] == data_type:\n",
    "                    pop_in_curr_cluster += 1\n",
    "            TPi += int(pop_in_curr_cluster * (pop_in_curr_cluster-1)/2)\n",
    "        #print(TPi)\n",
    "        FN += int((Ni * (Ni-1)/2) - TPi)\n",
    "    \n",
    "    N = 0\n",
    "    for data_type in data_pop_dict:\n",
    "        N += data_pop_dict[data_type]\n",
    "    TN = int(N*(N-1)/2 - (FN + TP + FP))\n",
    "\n",
    "    RI = (TP + TN) / (TP + TN + FP + FN)\n",
    "    return RI"
   ]
  },
  {
   "cell_type": "code",
   "execution_count": 6,
   "metadata": {},
   "outputs": [],
   "source": [
    "def print_dict(data_with_label):\n",
    "    pred_cluster_dict = {} # key is label predicted by kmeans, values are pic_nums of pics that are labeled with the respected key\n",
    "    for i, pred_cluster in enumerate(data_with_label[:, 3]): \n",
    "        if pred_cluster in pred_cluster_dict.keys():\n",
    "          pred_cluster_dict[pred_cluster].append(data_with_label[i][0])\n",
    "        else:\n",
    "          pred_cluster_dict[pred_cluster] = [data_with_label[i][0]]\n",
    "    \n",
    "    for keys,values in pred_cluster_dict.items():\n",
    "        print(keys)\n",
    "        print(values)"
   ]
  },
  {
   "cell_type": "markdown",
   "metadata": {},
   "source": [
    "# Data Preprocessing"
   ]
  },
  {
   "cell_type": "code",
   "execution_count": 7,
   "metadata": {},
   "outputs": [
    {
     "data": {
      "text/plain": [
       "((410, 3), [100, 10, array([100, 118, 111, ...,  21,  20,  21], dtype=uint8)])"
      ]
     },
     "execution_count": 7,
     "metadata": {},
     "output_type": "execute_result"
    }
   ],
   "source": [
    "filelist = glob.glob('ORL/*.jpg')\n",
    "list = []\n",
    "for fname in filelist:\n",
    "    pic_num = int(fname.split(\"\\\\\")[-1].split(\".\")[0].split(\"_\")[0])\n",
    "    cluster_num = int(fname.split(\"\\\\\")[1].split(\".\")[0].split(\"_\")[1])\n",
    "    img_arr = asarray(Image.open(fname).convert('L')).flatten()\n",
    "    list.append([pic_num, cluster_num, img_arr])\n",
    "    #print(img_arr)\n",
    "\n",
    "#1, 2, 3(arr)\n",
    "data = np.array(list)\n",
    "\n",
    "data.shape, list[0]"
   ]
  },
  {
   "cell_type": "markdown",
   "metadata": {},
   "source": [
    "# KMEANS"
   ]
  },
  {
   "cell_type": "code",
   "execution_count": 8,
   "metadata": {},
   "outputs": [
    {
     "name": "stdout",
     "output_type": "stream",
     "text": [
      "38\n",
      "[100, 266, 268, 269, 71, 72, 73, 74, 75, 76, 77, 78, 79, 80]\n",
      "2\n",
      "[101, 102, 103, 104, 105, 106, 107, 108, 109, 110, 139]\n",
      "24\n",
      "[10, 126, 171, 172, 174, 177, 179, 2]\n",
      "18\n",
      "[111, 116, 118, 129, 173, 175, 176, 178, 180, 392, 395, 45, 46, 48, 49, 50]\n",
      "17\n",
      "[112, 113, 114, 115, 117, 119, 120]\n",
      "7\n",
      "[11, 13, 151, 156, 15, 161, 17, 189, 18, 20, 272, 279]\n",
      "10\n",
      "[121, 122, 123, 124, 125, 127, 128, 130, 244, 245, 248, 25, 394, 397, 400, 41, 42, 43, 44, 47]\n",
      "13\n",
      "[12, 141, 143, 144, 146, 148, 14, 16, 19, 231, 235, 237, 316, 317, 319, 320]\n",
      "35\n",
      "[131, 132, 133, 134, 135, 136, 137, 138, 140, 362, 364, 365, 366, 368]\n",
      "40\n",
      "[142, 145, 147, 149, 150, 341]\n",
      "21\n",
      "[152, 153, 157, 158, 159, 160, 1, 3, 7]\n",
      "23\n",
      "[154, 155]\n",
      "0\n",
      "[162, 165, 222, 228, 85, 90]\n",
      "26\n",
      "[163, 164, 21, 241, 243, 246, 247, 249, 24, 250, 251, 252, 253, 256, 259, 26, 27, 28, 29, 30]\n",
      "19\n",
      "[166, 167, 168, 169, 170, 352]\n",
      "34\n",
      "[181, 182, 183, 184, 185, 186, 187, 188, 190, 261, 262, 263, 264, 265, 270, 274, 275, 277]\n",
      "36\n",
      "[191, 192, 193, 194, 195, 196, 197, 198, 199, 200]\n",
      "20\n",
      "[201, 204, 205, 206, 207, 208, 209, 210, 232, 233, 234, 236, 238, 239, 240, 325, 326, 329]\n",
      "16\n",
      "[202, 203, 281, 282, 283, 289, 290, 294, 295, 297, 386, 390]\n",
      "32\n",
      "[211, 212, 213, 214, 215, 216, 217, 218, 219, 220, 381, 383, 384, 385, 389]\n",
      "11\n",
      "[221, 224, 226, 227, 229, 230, 371, 372, 373, 374, 375, 376, 377, 378, 379, 380, 86, 87, 99]\n",
      "5\n",
      "[223, 225, 81, 82, 83, 84, 88, 89]\n",
      "14\n",
      "[22, 23, 254, 255, 258, 260]\n",
      "30\n",
      "[242, 32, 34, 35, 37, 39, 40]\n",
      "6\n",
      "[257, 271, 273, 276, 278, 280, 361, 363, 367, 369, 370]\n",
      "33\n",
      "[267, 31, 33, 356, 357, 360, 36, 38]\n",
      "1\n",
      "[284, 285, 286, 287, 288]\n",
      "28\n",
      "[291, 292, 293, 296, 298, 299, 300, 301, 306, 307, 308, 309]\n",
      "29\n",
      "[302, 303, 304, 305, 310]\n",
      "31\n",
      "[311, 312, 313, 314, 315, 318]\n",
      "4\n",
      "[321, 322, 323, 324, 327, 328, 330]\n",
      "22\n",
      "[331, 332, 333, 334, 335, 336, 337, 338, 339, 340]\n",
      "27\n",
      "[342, 344, 346, 347, 348]\n",
      "39\n",
      "[343, 345, 349, 350, 399]\n",
      "3\n",
      "[351, 353, 354, 355, 358, 359, 61, 62, 63, 64, 65, 66, 67, 68, 69, 70]\n",
      "12\n",
      "[382, 387, 388]\n",
      "37\n",
      "[391, 393, 396, 398]\n",
      "8\n",
      "[401, 402, 403, 404, 405, 406, 407, 408, 409, 410]\n",
      "15\n",
      "[4, 5, 6, 8, 9]\n",
      "9\n",
      "[51, 52, 53, 54, 55, 56, 57, 58, 59, 60]\n",
      "25\n",
      "[91, 92, 93, 94, 95, 96, 97, 98]\n"
     ]
    },
    {
     "data": {
      "text/plain": [
       "(0.9754904884012165, None)"
      ]
     },
     "execution_count": 8,
     "metadata": {},
     "output_type": "execute_result"
    }
   ],
   "source": [
    "kmeans = KMeans(n_clusters=41, init = 'random', n_init = 1, random_state=11).fit(np.stack(data[:, 2]))\n",
    "output_labels0 = np.array(kmeans.labels_).reshape((len(kmeans.labels_), 1))\n",
    "data_with_label0 = np.append(data, output_labels0, axis=1)\n",
    "ri(data_with_label0), print_dict(data_with_label0)"
   ]
  },
  {
   "cell_type": "markdown",
   "metadata": {},
   "source": [
    "# AGGLOMERATIVE"
   ]
  },
  {
   "cell_type": "markdown",
   "metadata": {},
   "source": [
    "### Average Link"
   ]
  },
  {
   "cell_type": "code",
   "execution_count": 9,
   "metadata": {},
   "outputs": [
    {
     "name": "stdout",
     "output_type": "stream",
     "text": [
      "36\n",
      "[100]\n",
      "1\n",
      "[101, 103, 106, 107, 108, 109, 110]\n",
      "32\n",
      "[102]\n",
      "20\n",
      "[104, 105]\n",
      "30\n",
      "[10, 5, 8, 9]\n",
      "9\n",
      "[111, 112, 113, 114, 115, 116, 117, 118, 119, 120, 251, 252, 253, 254, 255, 256, 257, 258, 259, 260]\n",
      "8\n",
      "[11, 12, 13, 141, 143, 144, 146, 148, 14, 15, 16, 17, 18, 19, 20, 317]\n",
      "3\n",
      "[121, 122, 123, 124, 125, 126, 127, 128, 129, 130, 142, 145, 147, 149, 150, 171, 172, 173, 174, 175, 176, 177, 178, 179, 180, 244, 245, 248, 24, 25, 391, 392, 393, 394, 395, 396, 397, 398, 399, 400, 41, 42, 43, 44, 45, 46, 47, 48, 49, 50]\n",
      "6\n",
      "[131, 132, 133, 134, 135, 136, 137, 138, 139, 140]\n",
      "40\n",
      "[151, 156]\n",
      "2\n",
      "[152, 153, 157, 158, 159, 160, 1, 3, 7]\n",
      "23\n",
      "[154, 155]\n",
      "0\n",
      "[161, 162, 163, 164, 165, 21, 22, 23, 241, 242, 243, 246, 247, 249, 250, 26, 27, 28, 29, 30, 31, 32, 33, 342, 344, 346, 347, 348, 34, 35, 36, 37, 38, 39, 40]\n",
      "7\n",
      "[166, 167, 168, 169, 170, 352, 356, 357]\n",
      "15\n",
      "[181, 182, 183, 184, 185, 186, 187, 188, 190, 261, 262, 263, 264, 265, 270]\n",
      "34\n",
      "[189, 360]\n",
      "14\n",
      "[191, 192, 193, 200, 201, 202, 203, 204, 205, 206, 207, 208, 209, 210, 281, 282, 283, 284, 285, 286, 287, 288, 289, 290, 291, 292, 293, 294, 295, 296, 297, 298, 299, 300, 301, 306, 307, 308, 309, 321, 322, 323, 324, 325, 326, 327, 328, 329, 330]\n",
      "26\n",
      "[194, 196]\n",
      "37\n",
      "[195, 197, 198, 199]\n",
      "18\n",
      "[211, 212, 213, 214, 215, 216, 217, 218, 219, 220, 381, 382, 383, 384, 385, 386, 387, 388, 389, 390]\n",
      "22\n",
      "[221, 222, 223, 224, 225, 226, 227, 228, 229, 230, 371, 372, 373, 374, 375, 376, 377, 378, 379, 380, 81, 82, 83, 84, 85, 86, 87, 88, 89, 90]\n",
      "35\n",
      "[231, 232, 233, 234, 235, 236, 237, 238, 239, 240]\n",
      "29\n",
      "[266, 267, 268, 269]\n",
      "10\n",
      "[271, 273, 276, 278, 280, 361, 363, 367, 369, 370]\n",
      "4\n",
      "[272, 274, 275, 277, 279, 362, 364, 365, 366, 368]\n",
      "33\n",
      "[2]\n",
      "38\n",
      "[302, 303, 304, 305, 310]\n",
      "28\n",
      "[311, 312, 313, 314, 315, 316, 318, 319, 320]\n",
      "5\n",
      "[331, 332, 333, 334, 335, 336, 337, 338, 339, 340]\n",
      "25\n",
      "[341]\n",
      "17\n",
      "[343, 345, 349, 350]\n",
      "13\n",
      "[351, 353, 354, 355, 358, 359, 61, 62, 63, 64, 65, 66, 67, 68, 69, 70]\n",
      "39\n",
      "[401]\n",
      "31\n",
      "[402, 405, 406]\n",
      "12\n",
      "[403, 404, 408, 409, 410]\n",
      "27\n",
      "[407]\n",
      "24\n",
      "[4, 6]\n",
      "21\n",
      "[51, 52, 53, 54, 55, 56, 57, 58, 59, 60]\n",
      "11\n",
      "[71, 72, 73, 74, 75, 76, 77, 78, 79, 80]\n",
      "16\n",
      "[91, 99]\n",
      "19\n",
      "[92, 93, 94, 95, 96, 97, 98]\n"
     ]
    },
    {
     "data": {
      "text/plain": [
       "(0.9560140735881686, None)"
      ]
     },
     "execution_count": 9,
     "metadata": {},
     "output_type": "execute_result"
    }
   ],
   "source": [
    "k = 41\n",
    "agglo = AgglomerativeClustering(n_clusters = k, linkage = 'average').fit(np.stack(data[:, 2]))\n",
    "output_labels2 = np.array(agglo.labels_).reshape((len(agglo.labels_), 1))\n",
    "data_with_label2 = np.append(data, output_labels2, axis=1)\n",
    "\n",
    "ri(data_with_label2), print_dict(data_with_label2)"
   ]
  },
  {
   "cell_type": "markdown",
   "metadata": {},
   "source": [
    "### Single Link"
   ]
  },
  {
   "cell_type": "code",
   "execution_count": 10,
   "metadata": {},
   "outputs": [
    {
     "name": "stdout",
     "output_type": "stream",
     "text": [
      "37\n",
      "[100]\n",
      "0\n",
      "[101, 102, 103, 106, 107, 108, 109, 110]\n",
      "20\n",
      "[104, 105]\n",
      "40\n",
      "[10]\n",
      "13\n",
      "[111, 112, 113, 114, 115, 116, 117, 118, 119, 120]\n",
      "32\n",
      "[11, 12, 13, 14, 15, 16, 17, 18, 19, 20]\n",
      "1\n",
      "[121, 122, 123, 124, 125, 126, 127, 128, 129, 130, 142, 145, 147, 149, 150, 163, 164, 166, 167, 168, 169, 170, 171, 172, 173, 174, 175, 176, 177, 178, 179, 180, 201, 202, 203, 204, 205, 206, 207, 208, 209, 210, 211, 212, 213, 214, 215, 216, 217, 218, 219, 21, 220, 221, 222, 223, 224, 225, 226, 227, 228, 229, 22, 230, 23, 241, 242, 243, 244, 245, 246, 247, 248, 249, 24, 250, 251, 252, 253, 254, 255, 256, 257, 258, 259, 25, 260, 26, 271, 273, 276, 27, 280, 281, 282, 283, 284, 285, 286, 287, 288, 289, 28, 290, 291, 292, 293, 294, 295, 296, 297, 298, 299, 29, 300, 301, 306, 307, 308, 309, 30, 31, 321, 322, 323, 324, 325, 326, 327, 328, 329, 32, 330, 33, 342, 344, 346, 347, 348, 34, 35, 361, 363, 367, 369, 36, 370, 371, 372, 373, 374, 375, 376, 377, 378, 379, 37, 380, 381, 382, 383, 384, 385, 386, 387, 388, 389, 38, 390, 391, 392, 393, 394, 395, 396, 397, 398, 399, 39, 400, 40, 41, 42, 43, 44, 45, 46, 47, 48, 49, 50, 81, 82, 83, 84, 85, 86, 87, 88, 89, 90]\n",
      "34\n",
      "[131, 132, 133, 134, 135]\n",
      "58\n",
      "[136, 139]\n",
      "54\n",
      "[137, 138]\n",
      "49\n",
      "[140]\n",
      "24\n",
      "[141, 143, 144, 146, 148]\n",
      "41\n",
      "[151]\n",
      "26\n",
      "[152, 153, 160]\n",
      "21\n",
      "[154, 155]\n",
      "45\n",
      "[156]\n",
      "47\n",
      "[157]\n",
      "35\n",
      "[158]\n",
      "38\n",
      "[159]\n",
      "19\n",
      "[161, 162, 165]\n",
      "8\n",
      "[181, 182, 183, 184, 185, 186, 187, 188, 190]\n",
      "42\n",
      "[189]\n",
      "27\n",
      "[191, 192, 193, 200]\n",
      "33\n",
      "[194, 196]\n",
      "10\n",
      "[195, 197, 198, 199]\n",
      "2\n",
      "[1, 7]\n",
      "29\n",
      "[231, 232, 233, 234, 235, 236, 237, 238, 239, 240]\n",
      "4\n",
      "[261, 262, 263, 264, 265, 266, 267, 268, 269, 270]\n",
      "59\n",
      "[272, 275, 277]\n",
      "51\n",
      "[274]\n",
      "46\n",
      "[278]\n",
      "30\n",
      "[279]\n",
      "50\n",
      "[2]\n",
      "17\n",
      "[302, 303, 304, 305, 310]\n",
      "6\n",
      "[311, 312, 313, 314, 315, 316, 318, 319, 320]\n",
      "55\n",
      "[317]\n",
      "15\n",
      "[331, 332, 333, 334, 335, 336, 337, 338, 339, 340]\n",
      "39\n",
      "[341]\n",
      "11\n",
      "[343, 345, 349, 350]\n",
      "9\n",
      "[351, 355]\n",
      "5\n",
      "[352, 356, 357]\n",
      "14\n",
      "[353, 354, 358, 359]\n",
      "52\n",
      "[360]\n",
      "23\n",
      "[362, 364, 365, 366, 368]\n",
      "36\n",
      "[3]\n",
      "31\n",
      "[401]\n",
      "44\n",
      "[402]\n",
      "22\n",
      "[403]\n",
      "18\n",
      "[404, 408, 409, 410]\n",
      "53\n",
      "[405, 406]\n",
      "48\n",
      "[407]\n",
      "3\n",
      "[4, 6]\n",
      "12\n",
      "[51, 52, 53, 54, 55, 56, 57, 58, 59, 60]\n",
      "57\n",
      "[5]\n",
      "28\n",
      "[61, 62, 63, 64, 65, 66, 67, 68, 69, 70]\n",
      "16\n",
      "[71, 72, 73, 74, 75, 76, 77, 78, 79, 80]\n",
      "56\n",
      "[8]\n",
      "7\n",
      "[91, 92, 93, 94, 95, 96, 97, 98]\n",
      "43\n",
      "[99]\n",
      "25\n",
      "[9]\n"
     ]
    },
    {
     "data": {
      "text/plain": [
       "(0.7650187846621742, None)"
      ]
     },
     "execution_count": 10,
     "metadata": {},
     "output_type": "execute_result"
    }
   ],
   "source": [
    "k = 41\n",
    "agglo = AgglomerativeClustering(n_clusters = 60, linkage = 'single').fit(np.stack(data[:, 2]))\n",
    "output_labels3 = np.array(agglo.labels_).reshape((len(agglo.labels_), 1))\n",
    "data_with_label3 = np.append(data, output_labels3, axis=1)\n",
    "\n",
    "ri(data_with_label3), print_dict(data_with_label3)"
   ]
  },
  {
   "cell_type": "markdown",
   "metadata": {},
   "source": [
    "### Complete Link"
   ]
  },
  {
   "cell_type": "code",
   "execution_count": 11,
   "metadata": {},
   "outputs": [
    {
     "name": "stdout",
     "output_type": "stream",
     "text": [
      "2\n",
      "[100, 189, 266, 267, 268, 269, 31, 33, 360, 36, 38]\n",
      "34\n",
      "[101, 102, 103, 106]\n",
      "7\n",
      "[104, 105, 136, 137, 138, 139, 140]\n",
      "23\n",
      "[107, 108, 109, 110]\n",
      "30\n",
      "[10, 5, 8, 9]\n",
      "27\n",
      "[111, 112, 113, 114, 115, 116, 117, 118, 119, 120]\n",
      "1\n",
      "[11, 12, 13, 14, 15, 16, 17, 18, 19, 20, 311, 312, 313, 314, 315, 316, 317, 318, 319, 320]\n",
      "5\n",
      "[121, 122, 123, 124, 125, 126, 127, 128, 129, 130, 244, 245, 248, 24, 25, 394, 400, 41, 42, 43, 44, 47]\n",
      "25\n",
      "[131, 132, 133, 134, 135]\n",
      "10\n",
      "[141, 143, 144, 146, 148, 151, 156, 231, 232, 235, 236, 237, 238]\n",
      "4\n",
      "[142, 145, 147, 149, 150, 241, 242, 243, 246, 247, 249, 250, 251, 252, 253, 254, 255, 256, 258, 259, 260, 342, 344, 346, 347, 348]\n",
      "3\n",
      "[152, 153, 157, 158, 159, 160, 1, 3, 7]\n",
      "40\n",
      "[154, 155]\n",
      "37\n",
      "[161, 162, 165, 32, 34, 35, 37, 39, 40]\n",
      "26\n",
      "[163, 164, 21, 222, 228, 22, 23, 26, 27, 28, 29, 30, 81, 82, 83, 84, 85, 86, 87, 88, 89, 90]\n",
      "12\n",
      "[166, 167, 168, 169, 170, 233, 234, 239, 240, 352, 356, 357]\n",
      "16\n",
      "[171, 172, 173, 174, 175, 176, 177, 178, 179, 180, 392, 393, 395, 397, 399, 45, 46, 48, 49, 50]\n",
      "15\n",
      "[181, 182, 183, 184, 185, 186, 187, 188, 190, 274]\n",
      "14\n",
      "[191, 192, 193, 194, 196, 200, 284, 285, 286, 287, 288]\n",
      "32\n",
      "[195, 197, 198, 199]\n",
      "17\n",
      "[201, 202, 203, 204, 205, 206, 207, 208, 209, 210, 301, 306, 307, 308, 309]\n",
      "38\n",
      "[211, 212, 213, 214, 215, 216, 217, 218, 219, 220, 281, 282, 283, 289, 290, 381, 382, 383, 384, 385, 386, 387, 388, 389, 390]\n",
      "8\n",
      "[221, 223, 224, 225, 226, 227, 229, 230, 371, 372, 373, 374, 375, 376, 377, 378, 379, 380]\n",
      "6\n",
      "[257, 271, 273, 276, 278, 280, 361, 363, 367, 369, 370]\n",
      "0\n",
      "[261, 262, 263, 264, 265, 270, 272, 275, 277, 279, 362, 364, 365, 366, 368]\n",
      "13\n",
      "[291, 292, 293, 294, 295, 296, 297, 298, 299, 300, 321, 322, 323, 324, 325, 326, 327, 328, 329, 330]\n",
      "39\n",
      "[2]\n",
      "29\n",
      "[302, 303, 304, 305, 310]\n",
      "11\n",
      "[331, 332, 333, 334, 335, 336, 337, 338, 339, 340]\n",
      "33\n",
      "[341, 391, 396, 398]\n",
      "18\n",
      "[343, 345, 349, 350]\n",
      "22\n",
      "[351, 353, 354, 355, 358, 359, 61, 62, 63, 64, 65, 66, 67, 68, 69, 70]\n",
      "28\n",
      "[401]\n",
      "21\n",
      "[402, 405, 406]\n",
      "36\n",
      "[403, 404, 408, 409, 410]\n",
      "31\n",
      "[407]\n",
      "35\n",
      "[4, 6]\n",
      "20\n",
      "[51, 52, 53, 54, 55, 56, 57, 58, 59, 60]\n",
      "24\n",
      "[71, 72, 73, 74, 75, 76, 77, 78, 79, 80]\n",
      "19\n",
      "[91, 99]\n",
      "9\n",
      "[92, 93, 94, 95, 96, 97, 98]\n"
     ]
    },
    {
     "data": {
      "text/plain": [
       "(0.973248255709941, None)"
      ]
     },
     "execution_count": 11,
     "metadata": {},
     "output_type": "execute_result"
    }
   ],
   "source": [
    "k = 41\n",
    "agglo = AgglomerativeClustering(n_clusters = k, linkage = 'complete').fit(np.stack(data[:, 2]))\n",
    "output_labels4 = np.array(agglo.labels_).reshape((len(agglo.labels_), 1))\n",
    "data_with_label4 = np.append(data, output_labels4, axis=1)\n",
    "\n",
    "ri(data_with_label4), print_dict(data_with_label4)"
   ]
  },
  {
   "cell_type": "markdown",
   "metadata": {},
   "source": [
    "# DBSCAN"
   ]
  },
  {
   "cell_type": "markdown",
   "metadata": {},
   "source": [
    "Using KNN for choosing epsilon - https://medium.com/@tarammullin/dbscan-parameter-estimation-ff8330e3a3bd"
   ]
  },
  {
   "cell_type": "markdown",
   "metadata": {},
   "source": [
    "### Choosing epsilon"
   ]
  },
  {
   "cell_type": "code",
   "execution_count": 12,
   "metadata": {},
   "outputs": [
    {
     "data": {
      "text/plain": [
       "[<matplotlib.lines.Line2D at 0x18add704948>]"
      ]
     },
     "execution_count": 12,
     "metadata": {},
     "output_type": "execute_result"
    },
    {
     "data": {
      "image/png": "[encoded data removed]",
      "text/plain": [
       "<Figure size 432x288 with 1 Axes>"
      ]
     },
     "metadata": {
      "needs_background": "light"
     },
     "output_type": "display_data"
    }
   ],
   "source": [
    "from sklearn.neighbors import NearestNeighbors\n",
    "from matplotlib import pyplot as plt\n",
    "\n",
    "neighbors = NearestNeighbors(n_neighbors=4)\n",
    "neighbors_fit = neighbors.fit(StandardScaler().fit_transform(np.stack(data[:, 2])))\n",
    "distances, indices = neighbors_fit.kneighbors(StandardScaler().fit_transform(np.stack(data[:, 2])))\n",
    "\n",
    "distances = np.sort(distances, axis=0)\n",
    "distances = distances[:,1]\n",
    "plt.plot(distances)\n",
    "\n",
    "# the average distance between each point and its k nearest neighbors, \n",
    "# where k = the MinPts value you selected. The average k-distances are \n",
    "# then plotted in ascending order on a k-distance graph. \n",
    "# You’ll find the optimal value for ε at the point of maximum curvature"
   ]
  },
  {
   "cell_type": "code",
   "execution_count": 13,
   "metadata": {},
   "outputs": [
    {
     "name": "stdout",
     "output_type": "stream",
     "text": [
      "-1\n",
      "[100, 102, 104, 105, 107, 108, 109, 10, 111, 113, 114, 116, 118, 119, 123, 124, 131, 132, 133, 134, 135, 136, 137, 138, 139, 140, 148, 151, 152, 153, 154, 155, 156, 157, 158, 159, 160, 161, 162, 163, 164, 165, 189, 194, 195, 196, 197, 198, 199, 1, 214, 222, 223, 225, 228, 235, 244, 245, 248, 24, 252, 257, 25, 266, 267, 268, 269, 26, 271, 272, 273, 274, 275, 276, 277, 278, 279, 27, 280, 28, 2, 301, 302, 306, 307, 308, 309, 311, 312, 313, 314, 315, 316, 317, 318, 319, 31, 320, 328, 334, 335, 337, 33, 341, 342, 343, 344, 345, 346, 347, 348, 349, 350, 351, 352, 353, 354, 355, 356, 357, 358, 359, 360, 368, 36, 381, 382, 383, 384, 385, 386, 387, 388, 389, 38, 390, 391, 393, 396, 399, 3, 401, 402, 403, 404, 405, 406, 407, 408, 409, 40, 410, 4, 5, 6, 7, 86, 87, 8, 91, 92, 93, 94, 95, 96, 97, 98, 99, 9]\n",
      "0\n",
      "[101, 103, 106, 110]\n",
      "1\n",
      "[112, 115, 117, 120]\n",
      "2\n",
      "[11, 12, 13, 14, 15, 16, 17, 18, 19, 20]\n",
      "3\n",
      "[121, 122, 125, 126, 127, 128, 129, 130]\n",
      "4\n",
      "[141, 143, 144, 146]\n",
      "5\n",
      "[142, 145, 147, 149, 150]\n",
      "6\n",
      "[166, 167, 168, 169, 170]\n",
      "7\n",
      "[171, 172, 173, 174, 175, 176, 177, 178, 179, 180, 392, 395, 397, 50]\n",
      "8\n",
      "[181, 182, 183, 186, 190]\n",
      "9\n",
      "[184, 185, 187, 188]\n",
      "10\n",
      "[191, 192, 193, 200]\n",
      "11\n",
      "[201, 202, 203, 204, 205, 206, 207, 208, 209, 210, 291, 292, 293, 294, 295, 296, 297, 298, 299, 300]\n",
      "12\n",
      "[211, 212, 213, 215, 216, 217, 218, 219, 220]\n",
      "13\n",
      "[21, 22, 23, 29, 30, 32, 34, 35, 374, 37, 39]\n",
      "14\n",
      "[221, 224, 226, 227, 229, 230, 371, 372, 373, 375, 376, 377, 378, 379, 380, 81, 82, 83, 84, 85, 88, 89, 90]\n",
      "15\n",
      "[231, 232, 236, 237, 238]\n",
      "16\n",
      "[233, 234, 239, 240]\n",
      "17\n",
      "[241, 242, 243, 246, 247, 249, 250]\n",
      "18\n",
      "[251, 253, 254, 255, 256, 258, 259, 260]\n",
      "19\n",
      "[261, 262, 263, 264, 265, 270]\n",
      "20\n",
      "[281, 282, 283, 284, 285, 286, 287, 288, 289, 290]\n",
      "21\n",
      "[303, 304, 305, 310]\n",
      "22\n",
      "[321, 322, 323, 324, 325, 326, 327, 329, 330]\n",
      "23\n",
      "[331, 332, 333, 336, 338, 339, 340]\n",
      "24\n",
      "[361, 363, 367, 369, 370]\n",
      "25\n",
      "[362, 364, 365, 366]\n",
      "26\n",
      "[394, 398, 400, 41, 42, 43, 44, 45, 46, 47, 48, 49]\n",
      "27\n",
      "[51, 52, 53, 54, 55, 56, 57, 58, 59, 60]\n",
      "28\n",
      "[61, 62, 63, 64, 65, 66, 67, 68, 69, 70]\n",
      "29\n",
      "[71, 72, 74, 77, 79]\n",
      "30\n",
      "[73, 75, 76, 78, 80]\n"
     ]
    },
    {
     "data": {
      "text/plain": [
       "(31, 0.8267398175204246, None)"
      ]
     },
     "execution_count": 13,
     "metadata": {},
     "output_type": "execute_result"
    }
   ],
   "source": [
    "ep0 = 55\n",
    "n0 = 4\n",
    "db = DBSCAN(eps=ep0, min_samples=n0).fit(StandardScaler().fit_transform(np.stack(data[:, 2])))\n",
    "output_labels5 = np.array(db.labels_).reshape((len(db.labels_), 1))\n",
    "k0 = max(db.labels_) + 1\n",
    "# pic num, clust num, img arr, label\n",
    "data_with_label5 = np.append(data, output_labels5, axis=1)\n",
    "k0, ri(data_with_label5), print_dict(data_with_label5) "
   ]
  },
  {
   "cell_type": "markdown",
   "metadata": {},
   "source": [
    "# Enhanced DBSCAN"
   ]
  },
  {
   "cell_type": "markdown",
   "metadata": {},
   "source": [
    "Perform DBSCAN clustering on noises iteratively"
   ]
  },
  {
   "cell_type": "code",
   "execution_count": 14,
   "metadata": {},
   "outputs": [
    {
     "name": "stdout",
     "output_type": "stream",
     "text": [
      "n_neighbors for plotting...\n"
     ]
    },
    {
     "name": "stdin",
     "output_type": "stream",
     "text": [
      " 4\n"
     ]
    },
    {
     "data": {
      "image/png": "[encoded data removed]",
      "text/plain": [
       "<Figure size 432x288 with 1 Axes>"
      ]
     },
     "metadata": {
      "needs_background": "light"
     },
     "output_type": "display_data"
    },
    {
     "name": "stdout",
     "output_type": "stream",
     "text": [
      "eps...\n"
     ]
    },
    {
     "name": "stdin",
     "output_type": "stream",
     "text": [
      " 55\n"
     ]
    },
    {
     "name": "stdout",
     "output_type": "stream",
     "text": [
      "min_points...\n"
     ]
    },
    {
     "name": "stdin",
     "output_type": "stream",
     "text": [
      " 4\n"
     ]
    },
    {
     "name": "stdout",
     "output_type": "stream",
     "text": [
      "ri:  0.8267398175204246\n",
      "-1\n",
      "[100, 102, 104, 105, 107, 108, 109, 10, 111, 113, 114, 116, 118, 119, 123, 124, 131, 132, 133, 134, 135, 136, 137, 138, 139, 140, 148, 151, 152, 153, 154, 155, 156, 157, 158, 159, 160, 161, 162, 163, 164, 165, 189, 194, 195, 196, 197, 198, 199, 1, 214, 222, 223, 225, 228, 235, 244, 245, 248, 24, 252, 257, 25, 266, 267, 268, 269, 26, 271, 272, 273, 274, 275, 276, 277, 278, 279, 27, 280, 28, 2, 301, 302, 306, 307, 308, 309, 311, 312, 313, 314, 315, 316, 317, 318, 319, 31, 320, 328, 334, 335, 337, 33, 341, 342, 343, 344, 345, 346, 347, 348, 349, 350, 351, 352, 353, 354, 355, 356, 357, 358, 359, 360, 368, 36, 381, 382, 383, 384, 385, 386, 387, 388, 389, 38, 390, 391, 393, 396, 399, 3, 401, 402, 403, 404, 405, 406, 407, 408, 409, 40, 410, 4, 5, 6, 7, 86, 87, 8, 91, 92, 93, 94, 95, 96, 97, 98, 99, 9]\n",
      "0\n",
      "[101, 103, 106, 110]\n",
      "1\n",
      "[112, 115, 117, 120]\n",
      "2\n",
      "[11, 12, 13, 14, 15, 16, 17, 18, 19, 20]\n",
      "3\n",
      "[121, 122, 125, 126, 127, 128, 129, 130]\n",
      "4\n",
      "[141, 143, 144, 146]\n",
      "5\n",
      "[142, 145, 147, 149, 150]\n",
      "6\n",
      "[166, 167, 168, 169, 170]\n",
      "7\n",
      "[171, 172, 173, 174, 175, 176, 177, 178, 179, 180, 392, 395, 397, 50]\n",
      "8\n",
      "[181, 182, 183, 186, 190]\n",
      "9\n",
      "[184, 185, 187, 188]\n",
      "10\n",
      "[191, 192, 193, 200]\n",
      "11\n",
      "[201, 202, 203, 204, 205, 206, 207, 208, 209, 210, 291, 292, 293, 294, 295, 296, 297, 298, 299, 300]\n",
      "12\n",
      "[211, 212, 213, 215, 216, 217, 218, 219, 220]\n",
      "13\n",
      "[21, 22, 23, 29, 30, 32, 34, 35, 374, 37, 39]\n",
      "14\n",
      "[221, 224, 226, 227, 229, 230, 371, 372, 373, 375, 376, 377, 378, 379, 380, 81, 82, 83, 84, 85, 88, 89, 90]\n",
      "15\n",
      "[231, 232, 236, 237, 238]\n",
      "16\n",
      "[233, 234, 239, 240]\n",
      "17\n",
      "[241, 242, 243, 246, 247, 249, 250]\n",
      "18\n",
      "[251, 253, 254, 255, 256, 258, 259, 260]\n",
      "19\n",
      "[261, 262, 263, 264, 265, 270]\n",
      "20\n",
      "[281, 282, 283, 284, 285, 286, 287, 288, 289, 290]\n",
      "21\n",
      "[303, 304, 305, 310]\n",
      "22\n",
      "[321, 322, 323, 324, 325, 326, 327, 329, 330]\n",
      "23\n",
      "[331, 332, 333, 336, 338, 339, 340]\n",
      "24\n",
      "[361, 363, 367, 369, 370]\n",
      "25\n",
      "[362, 364, 365, 366]\n",
      "26\n",
      "[394, 398, 400, 41, 42, 43, 44, 45, 46, 47, 48, 49]\n",
      "27\n",
      "[51, 52, 53, 54, 55, 56, 57, 58, 59, 60]\n",
      "28\n",
      "[61, 62, 63, 64, 65, 66, 67, 68, 69, 70]\n",
      "29\n",
      "[71, 72, 74, 77, 79]\n",
      "30\n",
      "[73, 75, 76, 78, 80]\n",
      "continue?\n"
     ]
    },
    {
     "name": "stdin",
     "output_type": "stream",
     "text": [
      " 1\n"
     ]
    },
    {
     "name": "stdout",
     "output_type": "stream",
     "text": [
      "n_neighbors for plotting...\n"
     ]
    },
    {
     "name": "stdin",
     "output_type": "stream",
     "text": [
      " 3\n"
     ]
    },
    {
     "data": {
      "image/png": "[encoded data removed]",
      "text/plain": [
       "<Figure size 432x288 with 1 Axes>"
      ]
     },
     "metadata": {
      "needs_background": "light"
     },
     "output_type": "display_data"
    },
    {
     "name": "stdout",
     "output_type": "stream",
     "text": [
      "eps...\n"
     ]
    },
    {
     "name": "stdin",
     "output_type": "stream",
     "text": [
      " 60\n"
     ]
    },
    {
     "name": "stdout",
     "output_type": "stream",
     "text": [
      "min_points...\n"
     ]
    },
    {
     "name": "stdin",
     "output_type": "stream",
     "text": [
      " 3\n"
     ]
    },
    {
     "name": "stdout",
     "output_type": "stream",
     "text": [
      "Clustering for noiese: \n",
      "-1\n",
      "[100, 102, 104, 105, 123, 124, 136, 137, 138, 139, 140, 148, 151, 154, 155, 156, 158, 189, 194, 196, 235, 257, 274, 278, 279, 2, 302, 317, 328, 341, 351, 355, 360, 368, 391, 393, 396, 401, 403, 407, 40, 4, 6, 99]\n",
      "0\n",
      "[107, 108, 109]\n",
      "1\n",
      "[10, 5, 8, 9]\n",
      "2\n",
      "[111, 113, 114, 116, 118, 119, 163, 164, 244, 245, 248, 24, 252, 25, 26, 27, 28, 31, 33, 342, 344, 346, 347, 348, 36, 38, 86, 87]\n",
      "3\n",
      "[131, 132, 133, 134, 135]\n",
      "4\n",
      "[152, 153, 157, 159, 160, 1, 3, 7]\n",
      "5\n",
      "[161, 162, 165]\n",
      "6\n",
      "[195, 197, 198, 199]\n",
      "17\n",
      "[214, 381, 382, 383, 384, 385, 386, 387, 388, 389, 390]\n",
      "7\n",
      "[222, 223, 225, 228]\n",
      "8\n",
      "[266, 267, 268, 269]\n",
      "9\n",
      "[271, 273, 276, 280]\n",
      "10\n",
      "[272, 275, 277]\n",
      "11\n",
      "[301, 306, 307, 308, 309]\n",
      "12\n",
      "[311, 312, 313, 314, 315, 316, 318, 319, 320]\n",
      "13\n",
      "[334, 335, 337]\n",
      "14\n",
      "[343, 345, 349, 350, 399]\n",
      "16\n",
      "[352, 356, 357]\n",
      "15\n",
      "[353, 354, 358, 359]\n",
      "19\n",
      "[402, 405, 406]\n",
      "18\n",
      "[404, 408, 409, 410]\n",
      "20\n",
      "[91, 92, 93, 94, 95, 96, 97, 98]\n",
      "Clustering for  whole data: \n",
      "-1\n",
      "[100, 102, 104, 105, 123, 124, 136, 137, 138, 139, 140, 148, 151, 154, 155, 156, 158, 189, 194, 196, 235, 257, 274, 278, 279, 2, 302, 317, 328, 341, 351, 355, 360, 368, 391, 393, 396, 401, 403, 407, 40, 4, 6, 99]\n",
      "0\n",
      "[101, 103, 106, 110]\n",
      "31\n",
      "[107, 108, 109]\n",
      "32\n",
      "[10, 5, 8, 9]\n",
      "33\n",
      "[111, 113, 114, 116, 118, 119, 163, 164, 244, 245, 248, 24, 252, 25, 26, 27, 28, 31, 33, 342, 344, 346, 347, 348, 36, 38, 86, 87]\n",
      "1\n",
      "[112, 115, 117, 120]\n",
      "2\n",
      "[11, 12, 13, 14, 15, 16, 17, 18, 19, 20]\n",
      "3\n",
      "[121, 122, 125, 126, 127, 128, 129, 130]\n",
      "34\n",
      "[131, 132, 133, 134, 135]\n",
      "4\n",
      "[141, 143, 144, 146]\n",
      "5\n",
      "[142, 145, 147, 149, 150]\n",
      "35\n",
      "[152, 153, 157, 159, 160, 1, 3, 7]\n",
      "36\n",
      "[161, 162, 165]\n",
      "6\n",
      "[166, 167, 168, 169, 170]\n",
      "7\n",
      "[171, 172, 173, 174, 175, 176, 177, 178, 179, 180, 392, 395, 397, 50]\n",
      "8\n",
      "[181, 182, 183, 186, 190]\n",
      "9\n",
      "[184, 185, 187, 188]\n",
      "10\n",
      "[191, 192, 193, 200]\n",
      "37\n",
      "[195, 197, 198, 199]\n",
      "11\n",
      "[201, 202, 203, 204, 205, 206, 207, 208, 209, 210, 291, 292, 293, 294, 295, 296, 297, 298, 299, 300]\n",
      "12\n",
      "[211, 212, 213, 215, 216, 217, 218, 219, 220]\n",
      "48\n",
      "[214, 381, 382, 383, 384, 385, 386, 387, 388, 389, 390]\n",
      "13\n",
      "[21, 22, 23, 29, 30, 32, 34, 35, 374, 37, 39]\n",
      "14\n",
      "[221, 224, 226, 227, 229, 230, 371, 372, 373, 375, 376, 377, 378, 379, 380, 81, 82, 83, 84, 85, 88, 89, 90]\n",
      "38\n",
      "[222, 223, 225, 228]\n",
      "15\n",
      "[231, 232, 236, 237, 238]\n",
      "16\n",
      "[233, 234, 239, 240]\n",
      "17\n",
      "[241, 242, 243, 246, 247, 249, 250]\n",
      "18\n",
      "[251, 253, 254, 255, 256, 258, 259, 260]\n",
      "19\n",
      "[261, 262, 263, 264, 265, 270]\n",
      "39\n",
      "[266, 267, 268, 269]\n",
      "40\n",
      "[271, 273, 276, 280]\n",
      "41\n",
      "[272, 275, 277]\n",
      "20\n",
      "[281, 282, 283, 284, 285, 286, 287, 288, 289, 290]\n",
      "42\n",
      "[301, 306, 307, 308, 309]\n",
      "21\n",
      "[303, 304, 305, 310]\n",
      "43\n",
      "[311, 312, 313, 314, 315, 316, 318, 319, 320]\n",
      "22\n",
      "[321, 322, 323, 324, 325, 326, 327, 329, 330]\n",
      "23\n",
      "[331, 332, 333, 336, 338, 339, 340]\n",
      "44\n",
      "[334, 335, 337]\n",
      "45\n",
      "[343, 345, 349, 350, 399]\n",
      "47\n",
      "[352, 356, 357]\n",
      "46\n",
      "[353, 354, 358, 359]\n",
      "24\n",
      "[361, 363, 367, 369, 370]\n",
      "25\n",
      "[362, 364, 365, 366]\n",
      "26\n",
      "[394, 398, 400, 41, 42, 43, 44, 45, 46, 47, 48, 49]\n",
      "50\n",
      "[402, 405, 406]\n",
      "49\n",
      "[404, 408, 409, 410]\n",
      "27\n",
      "[51, 52, 53, 54, 55, 56, 57, 58, 59, 60]\n",
      "28\n",
      "[61, 62, 63, 64, 65, 66, 67, 68, 69, 70]\n",
      "29\n",
      "[71, 72, 74, 77, 79]\n",
      "30\n",
      "[73, 75, 76, 78, 80]\n",
      "51\n",
      "[91, 92, 93, 94, 95, 96, 97, 98]\n",
      "ri:  0.9709463891704931\n",
      "continue?\n"
     ]
    },
    {
     "name": "stdin",
     "output_type": "stream",
     "text": [
      " 0\n"
     ]
    }
   ],
   "source": [
    "print('n_neighbors for plotting...')\n",
    "n_ne = input()\n",
    "\n",
    "neighbors = NearestNeighbors(n_neighbors=int(n_ne))\n",
    "neighbors_fit = neighbors.fit(StandardScaler().fit_transform(np.stack(data[:, 2])))\n",
    "distances, indices = neighbors_fit.kneighbors(StandardScaler().fit_transform(np.stack(data[:, 2])))\n",
    "\n",
    "distances = np.sort(distances, axis=0)\n",
    "distances = distances[:,1]\n",
    "plt.plot(distances)\n",
    "plt.show()\n",
    "\n",
    "print('eps...')\n",
    "eps = int(input())\n",
    "print('min_points...')\n",
    "n = int(input())\n",
    "\n",
    "db = DBSCAN(eps=eps, min_samples=n).fit(StandardScaler().fit_transform(np.stack(data[:, 2])))\n",
    "output_labels = np.array(db.labels_).reshape((len(db.labels_), 1))\n",
    "k = max(db.labels_) + 1\n",
    "# pic num, clust num, img arr, label\n",
    "data_with_label = np.append(data, output_labels, axis=1)\n",
    "print('ri: ', ri(data_with_label))\n",
    "\n",
    "print_dict(data_with_label)\n",
    "while True:\n",
    "    print('continue?')\n",
    "    confirm = int(input())\n",
    "    \n",
    "    if confirm != 1:\n",
    "        break\n",
    "    \n",
    "    noises1 = data_with_label[data_with_label[:, 3] == -1]\n",
    "\n",
    "    print('n_neighbors for plotting...')\n",
    "    n_ne1 = input()\n",
    "    neighbors1 = NearestNeighbors(n_neighbors=int(n_ne1))\n",
    "    neighbors1_fit = neighbors1.fit(StandardScaler().fit_transform(np.stack(noises1[:, 2])))\n",
    "    distances1, indices1 = neighbors1_fit.kneighbors(StandardScaler().fit_transform(np.stack(noises1[:, 2])))\n",
    "\n",
    "    distances1 = np.sort(distances1, axis=0)\n",
    "    distances1 = distances1[:,1]\n",
    "    plt.plot(distances1)\n",
    "    plt.show()\n",
    "\n",
    "    print('eps...')\n",
    "    eps1 = int(input())\n",
    "    print('min_points...')\n",
    "    n1 = int(input())\n",
    "\n",
    "    db1 = DBSCAN(eps=eps1, min_samples=n1).fit(StandardScaler().fit_transform(np.stack(noises1[:, 2])))\n",
    "    output_labels1 = np.array(db1.labels_).reshape((len(db1.labels_), 1))\n",
    "\n",
    "    # pic num, clust num, img arr, label\n",
    "    noises1[:, 3] = np.resize(output_labels1, len(output_labels1))\n",
    "\n",
    "    print('Clustering for noiese: ')\n",
    "    print_dict(noises1)\n",
    "\n",
    "\n",
    "    # merging\n",
    "    k = max(data_with_label[:, 3])\n",
    "    for i, pred_cluster in enumerate(data_with_label[:, 3]): \n",
    "        if pred_cluster == -1:\n",
    "            for j, noise_pred_cluster in enumerate(noises1[:, 3]):\n",
    "                if data_with_label[i][0] == noises1[j][0] and noise_pred_cluster!= -1:\n",
    "                    data_with_label[i][3] = noises1[j][3] + k + 1\n",
    "\n",
    "    print('Clustering for  whole data: ')\n",
    "    print_dict(data_with_label)\n",
    "\n",
    "\n",
    "    print('ri: ', ri(data_with_label))\n"
   ]
  },
  {
   "cell_type": "code",
   "execution_count": null,
   "metadata": {},
   "outputs": [],
   "source": []
  }
 ],
 "metadata": {
  "kernelspec": {
   "display_name": "Python 3",
   "language": "python",
   "name": "python3"
  },
  "language_info": {
   "codemirror_mode": {
    "name": "ipython",
    "version": 3
   },
   "file_extension": ".py",
   "mimetype": "text/x-python",
   "name": "python",
   "nbconvert_exporter": "python",
   "pygments_lexer": "ipython3",
   "version": "3.7.6"
  }
 },
 "nbformat": 4,
 "nbformat_minor": 4
}
